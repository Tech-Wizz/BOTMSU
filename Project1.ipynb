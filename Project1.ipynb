{
  "cells": [
    {
      "cell_type": "markdown",
      "metadata": {
        "id": "view-in-github",
        "colab_type": "text"
      },
      "source": [
        "<a href=\"https://colab.research.google.com/github/Tech-Wizz/BOTMSU/blob/master/Project1.ipynb\" target=\"_parent\"><img src=\"https://colab.research.google.com/assets/colab-badge.svg\" alt=\"Open In Colab\"/></a>"
      ]
    },
    {
      "cell_type": "markdown",
      "metadata": {
        "id": "kpq32bkuWsrB"
      },
      "source": [
        "Contrubitors: Lauren Helbling, Zach Wadhams, Kruize Christensen"
      ]
    },
    {
      "cell_type": "markdown",
      "metadata": {
        "id": "xT590vlagWGp"
      },
      "source": [
        "# Problem 1: Forest Fires\n",
        "\n",
        "> The Forest Fires data set was used to predict the burned area of forest fires in the northeast region of Portugal. This data set was upload by Paulo Cortez and Aníbal Morais from the Department of Information Systems at the University of Minho based in Portugal. It contains 11 numerical attributes: X-axis coordinate,Y-axis coordinate, FFMC index, DMC index, DC index, ISI index, temperature, relative humidity (RH), wind speed, outside rain, and\tburned area. It also contains 2 categorical attributes: month and day. These values should be label-encoded rather than one-hot-encoded because the attributes range greatly and finding a mean value would have a numerical interpretation. In total, it contains 517 entities and does not have any missing values. This data set is interesting to us because Montana experiences many forest fires every summer and we have always wondered how they calculate the estimated burned area. Specifically, we are interested in looking at how the wind speed and relative humidity relate to burn areas."
      ]
    },
    {
      "cell_type": "markdown",
      "metadata": {
        "id": "BkH9w3PQgzV-"
      },
      "source": [
        "# Problem 2: Custom Python Functions"
      ]
    },
    {
      "cell_type": "markdown",
      "metadata": {
        "id": "ZFAF1Qx5hXQc"
      },
      "source": [
        "##A function that will compute the mean of a numerical, multidimensional data set input as a 2-dimensional numpy array:"
      ]
    },
    {
      "cell_type": "code",
      "execution_count": null,
      "metadata": {
        "id": "QDJz_O9JivVp"
      },
      "outputs": [],
      "source": [
        "def multiMean(array):\n",
        "  n = array.shape[0]\n",
        "  attributes = array.shape[1]\n",
        "  result = np.zeros(attributes)\n",
        "  for i in range(attributes):\n",
        "    mean = np.sum(array[:,i])/n\n",
        "    result[i]= mean\n",
        "  return result"
      ]
    },
    {
      "cell_type": "markdown",
      "metadata": {
        "id": "NZzBp-VVhpXC"
      },
      "source": [
        "##A function that will compute the estimated covariance between two attributes that are input as one-dimensional numpy vectors:"
      ]
    },
    {
      "cell_type": "code",
      "execution_count": null,
      "metadata": {
        "id": "my-VNhTChvlc"
      },
      "outputs": [],
      "source": [
        "def covariance(a,b):\n",
        "  n = a.shape[0]\n",
        "  meanA = np.mean(a)\n",
        "  meanB = np.mean(b)\n",
        "  sum = 0\n",
        "  for i in range(n):\n",
        "    sum = sum + (a[i] - meanA)*(b[i] - meanB)\n",
        "  result = (1/(n-1))*(sum)\n",
        "  return result"
      ]
    },
    {
      "cell_type": "markdown",
      "metadata": {
        "id": "Vcd2yMo_hv83"
      },
      "source": [
        "##A function that will compute the correlation between two attributes that are input as two numpy vectors."
      ]
    },
    {
      "cell_type": "code",
      "execution_count": null,
      "metadata": {
        "id": "TfvKgP1WY02h"
      },
      "outputs": [],
      "source": [
        "def variance(v):\n",
        "  n = v.shape[0]\n",
        "  mean = np.mean(v)\n",
        "  sum = 0\n",
        "  for i in range(n):\n",
        "    sum = sum + ((v[i]-mean)**2)\n",
        "  result = sum/(n-1)\n",
        "  return result"
      ]
    },
    {
      "cell_type": "code",
      "execution_count": null,
      "metadata": {
        "id": "w49cxBX3hyED"
      },
      "outputs": [],
      "source": [
        "def coorelation(a,b):\n",
        "  cov = covariance(a,b)\n",
        "  stdA = math.sqrt(variance(a))\n",
        "  stdB = math.sqrt(variance(b))\n",
        "  coor = cov/(stdA*stdB)\n",
        "  return coor"
      ]
    },
    {
      "cell_type": "markdown",
      "metadata": {
        "id": "ezsezV2-hyOL"
      },
      "source": [
        "##A function that will normalize the attributes in a two-dimensional numpy array using range normalization."
      ]
    },
    {
      "cell_type": "code",
      "execution_count": null,
      "metadata": {
        "id": "XRuLzaURh8HC"
      },
      "outputs": [],
      "source": [
        "def rangeNorm(array):\n",
        "  result = np.zeros(array.shape)\n",
        "  for i in range(array.shape[1]):\n",
        "    column = array[:,i]\n",
        "    min = np.min(column)\n",
        "    max = np.max(column)\n",
        "    for j in range(array.shape[0]):\n",
        "      result[j,i] = (array[j,i]-min)/(max-min)\n",
        "  return result"
      ]
    },
    {
      "cell_type": "markdown",
      "metadata": {
        "id": "Uu9Bim_Vh8Ra"
      },
      "source": [
        "##A function that will normalize the attributes in a two-dimensional numpy array using standard normalization."
      ]
    },
    {
      "cell_type": "code",
      "execution_count": null,
      "metadata": {
        "id": "64XuKIqBiLyJ"
      },
      "outputs": [],
      "source": [
        "def standardNorm(array):\n",
        "  result = np.zeros(array.shape)\n",
        "  for i in range(array.shape[1]):\n",
        "    column = array[:,i]\n",
        "    mean = np.mean(column)\n",
        "    std = math.sqrt(variance(column))\n",
        "    for j in range(array.shape[0]):\n",
        "      result[j,i] = (array[j,i]-mean)/(std)\n",
        "  return result"
      ]
    },
    {
      "cell_type": "markdown",
      "metadata": {
        "id": "sNfgSv45iL6c"
      },
      "source": [
        "##A function that will compute the covariance matrix of a data set."
      ]
    },
    {
      "cell_type": "code",
      "execution_count": null,
      "metadata": {
        "id": "h1WN-H5MiO3B"
      },
      "outputs": [],
      "source": [
        "def covarianceMatrix(array):\n",
        "  n = array.shape[1]\n",
        "  result = np.zeros((n,n));\n",
        "  for i in range(n):\n",
        "    column = array[:,i]\n",
        "    for j in range(n):\n",
        "      if(i==j):\n",
        "        result[j,i]= variance(column)\n",
        "      else:\n",
        "        result[j,i] = covariance(column, array[:,j])\n",
        "  return result"
      ]
    },
    {
      "cell_type": "markdown",
      "metadata": {
        "id": "ggU7dc7iiPAY"
      },
      "source": [
        "##A function that will label-encode a two-dimensional categorical data array that is passed in as input.\n",
        "    "
      ]
    },
    {
      "cell_type": "code",
      "execution_count": null,
      "metadata": {
        "id": "iGcoVVi1ihqF"
      },
      "outputs": [],
      "source": [
        "def labelEncode(array):\n",
        "  for i in range(array.shape[1]):\n",
        "    column = array[:,i]\n",
        "    unique = np.unique(column)\n",
        "    for j in range(array.shape[0]):\n",
        "      label = np.where(unique == array[j][i])[0][0]\n",
        "      if isinstance(array[j][i], str):\n",
        "          array[j][i] = label\n",
        "  result = array\n",
        "  return result"
      ]
    },
    {
      "cell_type": "markdown",
      "metadata": {
        "id": "3CsDG8dngg9J"
      },
      "source": [
        "# Problem 3: Analyzing Burn Areas"
      ]
    },
    {
      "cell_type": "markdown",
      "source": [
        "##Convert all categorical attributes using label encoding or one-hot-encoding"
      ],
      "metadata": {
        "id": "ZGpfE-U-bKfC"
      }
    },
    {
      "cell_type": "markdown",
      "source": [
        "Import real data and convert to numpy array:\n"
      ],
      "metadata": {
        "id": "P3tpdvGmpWgC"
      }
    },
    {
      "cell_type": "code",
      "source": [
        "import pandas as pd\n",
        "from google.colab import files\n",
        "uploaded = files.upload()\n",
        "df = pd.read_csv('forestfires.csv')\n",
        "array = df.to_numpy()\n",
        "print(array)"
      ],
      "metadata": {
        "colab": {
          "base_uri": "https://localhost:8080/",
          "height": 198,
          "resources": {
            "http://localhost:8080/nbextensions/google.colab/files.js": {
              "data": "Ly8gQ29weXJpZ2h0IDIwMTcgR29vZ2xlIExMQwovLwovLyBMaWNlbnNlZCB1bmRlciB0aGUgQXBhY2hlIExpY2Vuc2UsIFZlcnNpb24gMi4wICh0aGUgIkxpY2Vuc2UiKTsKLy8geW91IG1heSBub3QgdXNlIHRoaXMgZmlsZSBleGNlcHQgaW4gY29tcGxpYW5jZSB3aXRoIHRoZSBMaWNlbnNlLgovLyBZb3UgbWF5IG9idGFpbiBhIGNvcHkgb2YgdGhlIExpY2Vuc2UgYXQKLy8KLy8gICAgICBodHRwOi8vd3d3LmFwYWNoZS5vcmcvbGljZW5zZXMvTElDRU5TRS0yLjAKLy8KLy8gVW5sZXNzIHJlcXVpcmVkIGJ5IGFwcGxpY2FibGUgbGF3IG9yIGFncmVlZCB0byBpbiB3cml0aW5nLCBzb2Z0d2FyZQovLyBkaXN0cmlidXRlZCB1bmRlciB0aGUgTGljZW5zZSBpcyBkaXN0cmlidXRlZCBvbiBhbiAiQVMgSVMiIEJBU0lTLAovLyBXSVRIT1VUIFdBUlJBTlRJRVMgT1IgQ09ORElUSU9OUyBPRiBBTlkgS0lORCwgZWl0aGVyIGV4cHJlc3Mgb3IgaW1wbGllZC4KLy8gU2VlIHRoZSBMaWNlbnNlIGZvciB0aGUgc3BlY2lmaWMgbGFuZ3VhZ2UgZ292ZXJuaW5nIHBlcm1pc3Npb25zIGFuZAovLyBsaW1pdGF0aW9ucyB1bmRlciB0aGUgTGljZW5zZS4KCi8qKgogKiBAZmlsZW92ZXJ2aWV3IEhlbHBlcnMgZm9yIGdvb2dsZS5jb2xhYiBQeXRob24gbW9kdWxlLgogKi8KKGZ1bmN0aW9uKHNjb3BlKSB7CmZ1bmN0aW9uIHNwYW4odGV4dCwgc3R5bGVBdHRyaWJ1dGVzID0ge30pIHsKICBjb25zdCBlbGVtZW50ID0gZG9jdW1lbnQuY3JlYXRlRWxlbWVudCgnc3BhbicpOwogIGVsZW1lbnQudGV4dENvbnRlbnQgPSB0ZXh0OwogIGZvciAoY29uc3Qga2V5IG9mIE9iamVjdC5rZXlzKHN0eWxlQXR0cmlidXRlcykpIHsKICAgIGVsZW1lbnQuc3R5bGVba2V5XSA9IHN0eWxlQXR0cmlidXRlc1trZXldOwogIH0KICByZXR1cm4gZWxlbWVudDsKfQoKLy8gTWF4IG51bWJlciBvZiBieXRlcyB3aGljaCB3aWxsIGJlIHVwbG9hZGVkIGF0IGEgdGltZS4KY29uc3QgTUFYX1BBWUxPQURfU0laRSA9IDEwMCAqIDEwMjQ7CgpmdW5jdGlvbiBfdXBsb2FkRmlsZXMoaW5wdXRJZCwgb3V0cHV0SWQpIHsKICBjb25zdCBzdGVwcyA9IHVwbG9hZEZpbGVzU3RlcChpbnB1dElkLCBvdXRwdXRJZCk7CiAgY29uc3Qgb3V0cHV0RWxlbWVudCA9IGRvY3VtZW50LmdldEVsZW1lbnRCeUlkKG91dHB1dElkKTsKICAvLyBDYWNoZSBzdGVwcyBvbiB0aGUgb3V0cHV0RWxlbWVudCB0byBtYWtlIGl0IGF2YWlsYWJsZSBmb3IgdGhlIG5leHQgY2FsbAogIC8vIHRvIHVwbG9hZEZpbGVzQ29udGludWUgZnJvbSBQeXRob24uCiAgb3V0cHV0RWxlbWVudC5zdGVwcyA9IHN0ZXBzOwoKICByZXR1cm4gX3VwbG9hZEZpbGVzQ29udGludWUob3V0cHV0SWQpOwp9CgovLyBUaGlzIGlzIHJvdWdobHkgYW4gYXN5bmMgZ2VuZXJhdG9yIChub3Qgc3VwcG9ydGVkIGluIHRoZSBicm93c2VyIHlldCksCi8vIHdoZXJlIHRoZXJlIGFyZSBtdWx0aXBsZSBhc3luY2hyb25vdXMgc3RlcHMgYW5kIHRoZSBQeXRob24gc2lkZSBpcyBnb2luZwovLyB0byBwb2xsIGZvciBjb21wbGV0aW9uIG9mIGVhY2ggc3RlcC4KLy8gVGhpcyB1c2VzIGEgUHJvbWlzZSB0byBibG9jayB0aGUgcHl0aG9uIHNpZGUgb24gY29tcGxldGlvbiBvZiBlYWNoIHN0ZXAsCi8vIHRoZW4gcGFzc2VzIHRoZSByZXN1bHQgb2YgdGhlIHByZXZpb3VzIHN0ZXAgYXMgdGhlIGlucHV0IHRvIHRoZSBuZXh0IHN0ZXAuCmZ1bmN0aW9uIF91cGxvYWRGaWxlc0NvbnRpbnVlKG91dHB1dElkKSB7CiAgY29uc3Qgb3V0cHV0RWxlbWVudCA9IGRvY3VtZW50LmdldEVsZW1lbnRCeUlkKG91dHB1dElkKTsKICBjb25zdCBzdGVwcyA9IG91dHB1dEVsZW1lbnQuc3RlcHM7CgogIGNvbnN0IG5leHQgPSBzdGVwcy5uZXh0KG91dHB1dEVsZW1lbnQubGFzdFByb21pc2VWYWx1ZSk7CiAgcmV0dXJuIFByb21pc2UucmVzb2x2ZShuZXh0LnZhbHVlLnByb21pc2UpLnRoZW4oKHZhbHVlKSA9PiB7CiAgICAvLyBDYWNoZSB0aGUgbGFzdCBwcm9taXNlIHZhbHVlIHRvIG1ha2UgaXQgYXZhaWxhYmxlIHRvIHRoZSBuZXh0CiAgICAvLyBzdGVwIG9mIHRoZSBnZW5lcmF0b3IuCiAgICBvdXRwdXRFbGVtZW50Lmxhc3RQcm9taXNlVmFsdWUgPSB2YWx1ZTsKICAgIHJldHVybiBuZXh0LnZhbHVlLnJlc3BvbnNlOwogIH0pOwp9CgovKioKICogR2VuZXJhdG9yIGZ1bmN0aW9uIHdoaWNoIGlzIGNhbGxlZCBiZXR3ZWVuIGVhY2ggYXN5bmMgc3RlcCBvZiB0aGUgdXBsb2FkCiAqIHByb2Nlc3MuCiAqIEBwYXJhbSB7c3RyaW5nfSBpbnB1dElkIEVsZW1lbnQgSUQgb2YgdGhlIGlucHV0IGZpbGUgcGlja2VyIGVsZW1lbnQuCiAqIEBwYXJhbSB7c3RyaW5nfSBvdXRwdXRJZCBFbGVtZW50IElEIG9mIHRoZSBvdXRwdXQgZGlzcGxheS4KICogQHJldHVybiB7IUl0ZXJhYmxlPCFPYmplY3Q+fSBJdGVyYWJsZSBvZiBuZXh0IHN0ZXBzLgogKi8KZnVuY3Rpb24qIHVwbG9hZEZpbGVzU3RlcChpbnB1dElkLCBvdXRwdXRJZCkgewogIGNvbnN0IGlucHV0RWxlbWVudCA9IGRvY3VtZW50LmdldEVsZW1lbnRCeUlkKGlucHV0SWQpOwogIGlucHV0RWxlbWVudC5kaXNhYmxlZCA9IGZhbHNlOwoKICBjb25zdCBvdXRwdXRFbGVtZW50ID0gZG9jdW1lbnQuZ2V0RWxlbWVudEJ5SWQob3V0cHV0SWQpOwogIG91dHB1dEVsZW1lbnQuaW5uZXJIVE1MID0gJyc7CgogIGNvbnN0IHBpY2tlZFByb21pc2UgPSBuZXcgUHJvbWlzZSgocmVzb2x2ZSkgPT4gewogICAgaW5wdXRFbGVtZW50LmFkZEV2ZW50TGlzdGVuZXIoJ2NoYW5nZScsIChlKSA9PiB7CiAgICAgIHJlc29sdmUoZS50YXJnZXQuZmlsZXMpOwogICAgfSk7CiAgfSk7CgogIGNvbnN0IGNhbmNlbCA9IGRvY3VtZW50LmNyZWF0ZUVsZW1lbnQoJ2J1dHRvbicpOwogIGlucHV0RWxlbWVudC5wYXJlbnRFbGVtZW50LmFwcGVuZENoaWxkKGNhbmNlbCk7CiAgY2FuY2VsLnRleHRDb250ZW50ID0gJ0NhbmNlbCB1cGxvYWQnOwogIGNvbnN0IGNhbmNlbFByb21pc2UgPSBuZXcgUHJvbWlzZSgocmVzb2x2ZSkgPT4gewogICAgY2FuY2VsLm9uY2xpY2sgPSAoKSA9PiB7CiAgICAgIHJlc29sdmUobnVsbCk7CiAgICB9OwogIH0pOwoKICAvLyBXYWl0IGZvciB0aGUgdXNlciB0byBwaWNrIHRoZSBmaWxlcy4KICBjb25zdCBmaWxlcyA9IHlpZWxkIHsKICAgIHByb21pc2U6IFByb21pc2UucmFjZShbcGlja2VkUHJvbWlzZSwgY2FuY2VsUHJvbWlzZV0pLAogICAgcmVzcG9uc2U6IHsKICAgICAgYWN0aW9uOiAnc3RhcnRpbmcnLAogICAgfQogIH07CgogIGNhbmNlbC5yZW1vdmUoKTsKCiAgLy8gRGlzYWJsZSB0aGUgaW5wdXQgZWxlbWVudCBzaW5jZSBmdXJ0aGVyIHBpY2tzIGFyZSBub3QgYWxsb3dlZC4KICBpbnB1dEVsZW1lbnQuZGlzYWJsZWQgPSB0cnVlOwoKICBpZiAoIWZpbGVzKSB7CiAgICByZXR1cm4gewogICAgICByZXNwb25zZTogewogICAgICAgIGFjdGlvbjogJ2NvbXBsZXRlJywKICAgICAgfQogICAgfTsKICB9CgogIGZvciAoY29uc3QgZmlsZSBvZiBmaWxlcykgewogICAgY29uc3QgbGkgPSBkb2N1bWVudC5jcmVhdGVFbGVtZW50KCdsaScpOwogICAgbGkuYXBwZW5kKHNwYW4oZmlsZS5uYW1lLCB7Zm9udFdlaWdodDogJ2JvbGQnfSkpOwogICAgbGkuYXBwZW5kKHNwYW4oCiAgICAgICAgYCgke2ZpbGUudHlwZSB8fCAnbi9hJ30pIC0gJHtmaWxlLnNpemV9IGJ5dGVzLCBgICsKICAgICAgICBgbGFzdCBtb2RpZmllZDogJHsKICAgICAgICAgICAgZmlsZS5sYXN0TW9kaWZpZWREYXRlID8gZmlsZS5sYXN0TW9kaWZpZWREYXRlLnRvTG9jYWxlRGF0ZVN0cmluZygpIDoKICAgICAgICAgICAgICAgICAgICAgICAgICAgICAgICAgICAgJ24vYSd9IC0gYCkpOwogICAgY29uc3QgcGVyY2VudCA9IHNwYW4oJzAlIGRvbmUnKTsKICAgIGxpLmFwcGVuZENoaWxkKHBlcmNlbnQpOwoKICAgIG91dHB1dEVsZW1lbnQuYXBwZW5kQ2hpbGQobGkpOwoKICAgIGNvbnN0IGZpbGVEYXRhUHJvbWlzZSA9IG5ldyBQcm9taXNlKChyZXNvbHZlKSA9PiB7CiAgICAgIGNvbnN0IHJlYWRlciA9IG5ldyBGaWxlUmVhZGVyKCk7CiAgICAgIHJlYWRlci5vbmxvYWQgPSAoZSkgPT4gewogICAgICAgIHJlc29sdmUoZS50YXJnZXQucmVzdWx0KTsKICAgICAgfTsKICAgICAgcmVhZGVyLnJlYWRBc0FycmF5QnVmZmVyKGZpbGUpOwogICAgfSk7CiAgICAvLyBXYWl0IGZvciB0aGUgZGF0YSB0byBiZSByZWFkeS4KICAgIGxldCBmaWxlRGF0YSA9IHlpZWxkIHsKICAgICAgcHJvbWlzZTogZmlsZURhdGFQcm9taXNlLAogICAgICByZXNwb25zZTogewogICAgICAgIGFjdGlvbjogJ2NvbnRpbnVlJywKICAgICAgfQogICAgfTsKCiAgICAvLyBVc2UgYSBjaHVua2VkIHNlbmRpbmcgdG8gYXZvaWQgbWVzc2FnZSBzaXplIGxpbWl0cy4gU2VlIGIvNjIxMTU2NjAuCiAgICBsZXQgcG9zaXRpb24gPSAwOwogICAgZG8gewogICAgICBjb25zdCBsZW5ndGggPSBNYXRoLm1pbihmaWxlRGF0YS5ieXRlTGVuZ3RoIC0gcG9zaXRpb24sIE1BWF9QQVlMT0FEX1NJWkUpOwogICAgICBjb25zdCBjaHVuayA9IG5ldyBVaW50OEFycmF5KGZpbGVEYXRhLCBwb3NpdGlvbiwgbGVuZ3RoKTsKICAgICAgcG9zaXRpb24gKz0gbGVuZ3RoOwoKICAgICAgY29uc3QgYmFzZTY0ID0gYnRvYShTdHJpbmcuZnJvbUNoYXJDb2RlLmFwcGx5KG51bGwsIGNodW5rKSk7CiAgICAgIHlpZWxkIHsKICAgICAgICByZXNwb25zZTogewogICAgICAgICAgYWN0aW9uOiAnYXBwZW5kJywKICAgICAgICAgIGZpbGU6IGZpbGUubmFtZSwKICAgICAgICAgIGRhdGE6IGJhc2U2NCwKICAgICAgICB9LAogICAgICB9OwoKICAgICAgbGV0IHBlcmNlbnREb25lID0gZmlsZURhdGEuYnl0ZUxlbmd0aCA9PT0gMCA/CiAgICAgICAgICAxMDAgOgogICAgICAgICAgTWF0aC5yb3VuZCgocG9zaXRpb24gLyBmaWxlRGF0YS5ieXRlTGVuZ3RoKSAqIDEwMCk7CiAgICAgIHBlcmNlbnQudGV4dENvbnRlbnQgPSBgJHtwZXJjZW50RG9uZX0lIGRvbmVgOwoKICAgIH0gd2hpbGUgKHBvc2l0aW9uIDwgZmlsZURhdGEuYnl0ZUxlbmd0aCk7CiAgfQoKICAvLyBBbGwgZG9uZS4KICB5aWVsZCB7CiAgICByZXNwb25zZTogewogICAgICBhY3Rpb246ICdjb21wbGV0ZScsCiAgICB9CiAgfTsKfQoKc2NvcGUuZ29vZ2xlID0gc2NvcGUuZ29vZ2xlIHx8IHt9OwpzY29wZS5nb29nbGUuY29sYWIgPSBzY29wZS5nb29nbGUuY29sYWIgfHwge307CnNjb3BlLmdvb2dsZS5jb2xhYi5fZmlsZXMgPSB7CiAgX3VwbG9hZEZpbGVzLAogIF91cGxvYWRGaWxlc0NvbnRpbnVlLAp9Owp9KShzZWxmKTsK",
              "ok": true,
              "headers": [
                [
                  "content-type",
                  "application/javascript"
                ]
              ],
              "status": 200,
              "status_text": ""
            }
          }
        },
        "id": "Ewikq8ymjt55",
        "outputId": "f3570346-81b5-4e3f-adb4-f80ceacfe445"
      },
      "execution_count": null,
      "outputs": [
        {
          "output_type": "display_data",
          "data": {
            "text/html": [
              "\n",
              "     <input type=\"file\" id=\"files-fad6c8ab-92e8-488f-b2f4-d220dbd4e635\" name=\"files[]\" multiple disabled\n",
              "        style=\"border:none\" />\n",
              "     <output id=\"result-fad6c8ab-92e8-488f-b2f4-d220dbd4e635\">\n",
              "      Upload widget is only available when the cell has been executed in the\n",
              "      current browser session. Please rerun this cell to enable.\n",
              "      </output>\n",
              "      <script src=\"/nbextensions/google.colab/files.js\"></script> "
            ],
            "text/plain": [
              "<IPython.core.display.HTML object>"
            ]
          },
          "metadata": {}
        },
        {
          "output_type": "stream",
          "name": "stdout",
          "text": [
            "Saving forestfires.csv to forestfires.csv\n",
            "[[7 5 'mar' ... 6.7 0.0 0.0]\n",
            " [7 4 'oct' ... 0.9 0.0 0.0]\n",
            " [7 4 'oct' ... 1.3 0.0 0.0]\n",
            " ...\n",
            " [7 4 'aug' ... 6.7 0.0 11.16]\n",
            " [1 4 'aug' ... 4.0 0.0 0.0]\n",
            " [6 3 'nov' ... 4.5 0.0 0.0]]\n"
          ]
        }
      ]
    },
    {
      "cell_type": "markdown",
      "source": [
        "Label-encoded Dataframe:"
      ],
      "metadata": {
        "id": "6V3JMRZslF3Z"
      }
    },
    {
      "cell_type": "code",
      "source": [
        "import numpy as np\n",
        "fires = labelEncode(array)\n",
        "print(fires)"
      ],
      "metadata": {
        "colab": {
          "base_uri": "https://localhost:8080/"
        },
        "id": "uGGflaccn9zz",
        "outputId": "de959b22-8e89-4a0b-b69a-07c16c200303"
      },
      "execution_count": null,
      "outputs": [
        {
          "output_type": "stream",
          "name": "stdout",
          "text": [
            "[[7 5 7 ... 6.7 0.0 0.0]\n",
            " [7 4 10 ... 0.9 0.0 0.0]\n",
            " [7 4 10 ... 1.3 0.0 0.0]\n",
            " ...\n",
            " [7 4 1 ... 6.7 0.0 11.16]\n",
            " [1 4 1 ... 4.0 0.0 0.0]\n",
            " [6 3 9 ... 4.5 0.0 0.0]]\n"
          ]
        }
      ]
    },
    {
      "cell_type": "markdown",
      "source": [
        "##If your data has missing values, fill in those values with the attribute mean."
      ],
      "metadata": {
        "id": "8YLEeTsybRzL"
      }
    },
    {
      "cell_type": "markdown",
      "source": [
        "This data has no missing values, or else we would replace them at this point in our analysis."
      ],
      "metadata": {
        "id": "Uak7Q7lwlkJ8"
      }
    },
    {
      "cell_type": "markdown",
      "source": [
        "##What is the multidimensional mean of the numerical data matrix (where categorical data have been converted to numerical values)?"
      ],
      "metadata": {
        "id": "eD1bxREoluDg"
      }
    },
    {
      "cell_type": "code",
      "source": [
        "multiMean(fires)"
      ],
      "metadata": {
        "colab": {
          "base_uri": "https://localhost:8080/"
        },
        "id": "KIEdKYD6plhg",
        "outputId": "273f37b3-6e07-4287-95bc-c4b413f0cb93"
      },
      "execution_count": null,
      "outputs": [
        {
          "output_type": "execute_result",
          "data": {
            "text/plain": [
              "array([4.66924565e+00, 4.29980658e+00, 5.75822050e+00, 2.73694391e+00,\n",
              "       9.06446809e+01, 1.10872340e+02, 5.47940039e+02, 9.02166344e+00,\n",
              "       1.88891683e+01, 4.42882012e+01, 4.01760155e+00, 2.16634429e-02,\n",
              "       1.28472921e+01])"
            ]
          },
          "metadata": {},
          "execution_count": 11
        }
      ]
    },
    {
      "cell_type": "markdown",
      "source": [
        "##What is the covariance matrix of the numerical data matrix (where categorical data have been converted to numerical values)?"
      ],
      "metadata": {
        "id": "gHQd-EseluLz"
      }
    },
    {
      "cell_type": "code",
      "source": [
        "np.set_printoptions(suppress=True) #supress scientific notation\n",
        "np.around(covarianceMatrix(fires), decimals=2) #round to 2 decimals for readability"
      ],
      "metadata": {
        "colab": {
          "base_uri": "https://localhost:8080/"
        },
        "id": "rlNmc77ipxHb",
        "outputId": "426afd18-6fdd-4d2b-e90e-7bd3cd9823e9"
      },
      "execution_count": null,
      "outputs": [
        {
          "output_type": "execute_result",
          "data": {
            "text/plain": [
              "array([[    5.35,     1.54,    -0.18,    -0.04,    -0.27,    -7.17,\n",
              "          -49.31,     0.07,    -0.69,     3.22,     0.08,     0.04,\n",
              "            9.34],\n",
              "       [    1.54,     1.51,    -0.33,     0.07,    -0.31,     0.61,\n",
              "          -30.87,    -0.14,    -0.17,     1.25,    -0.04,     0.01,\n",
              "            3.51],\n",
              "       [   -0.18,    -0.33,    19.7 ,    -0.71,    -0.18,   -48.5 ,\n",
              "          238.06,    -3.43,    -1.87,    -7.28,    -1.11,    -0.1 ,\n",
              "            8.64],\n",
              "       [   -0.04,     0.07,    -0.71,     4.25,     0.8 ,     8.66,\n",
              "           28.05,     1.03,     1.66,    -3.25,    -0.12,     0.03,\n",
              "            2.32],\n",
              "       [   -0.27,    -0.31,    -0.18,     0.8 ,    30.47,   135.27,\n",
              "          452.59,    13.38,    13.83,   -27.11,    -0.28,     0.09,\n",
              "           14.1 ],\n",
              "       [   -7.17,     0.61,   -48.5 ,     8.66,   135.27,  4101.95,\n",
              "        10838.5 ,    89.1 ,   174.64,    77.12,   -12.09,     1.42,\n",
              "          297.59],\n",
              "       [  -49.31,   -30.87,   238.06,    28.05,   452.59, 10838.5 ,\n",
              "        61536.84,   259.19,   714.75,  -158.64,   -90.43,     2.63,\n",
              "          779.8 ],\n",
              "       [    0.07,    -0.14,    -3.43,     1.03,    13.38,    89.1 ,\n",
              "          259.19,    20.79,    10.44,    -9.86,     0.87,     0.09,\n",
              "            2.4 ],\n",
              "       [   -0.69,    -0.17,    -1.87,     1.66,    13.83,   174.64,\n",
              "          714.75,    10.44,    33.72,   -49.97,    -2.36,     0.12,\n",
              "           36.17],\n",
              "       [    3.22,     1.25,    -7.28,    -3.25,   -27.11,    77.12,\n",
              "         -158.64,    -9.86,   -49.97,   266.26,     2.03,     0.48,\n",
              "          -78.44],\n",
              "       [    0.08,    -0.04,    -1.11,    -0.12,    -0.28,   -12.09,\n",
              "          -90.43,     0.87,    -2.36,     2.03,     3.21,     0.03,\n",
              "            1.4 ],\n",
              "       [    0.04,     0.01,    -0.1 ,     0.03,     0.09,     1.42,\n",
              "            2.63,     0.09,     0.12,     0.48,     0.03,     0.09,\n",
              "           -0.14],\n",
              "       [    9.34,     3.51,     8.64,     2.32,    14.1 ,   297.59,\n",
              "          779.8 ,     2.4 ,    36.17,   -78.44,     1.4 ,    -0.14,\n",
              "         4052.06]])"
            ]
          },
          "metadata": {},
          "execution_count": 12
        }
      ]
    },
    {
      "cell_type": "markdown",
      "source": [
        "##Choose 5 pairs of attributes that you think could be related. Create scatter plots of all 5 pairs and include these in your report, along with a description and analysis that summarizes why these pairs of attributes might be related, and how the scatter plots do or do not support this intuition."
      ],
      "metadata": {
        "id": "Z2QwETt9luTX"
      }
    },
    {
      "cell_type": "markdown",
      "source": [
        "> Plot 1: X and Y coordinates"
      ],
      "metadata": {
        "id": "qcGKbn-PAT4J"
      }
    },
    {
      "cell_type": "code",
      "source": [
        "#months = ['jan', 'feb', 'mar', 'apr', 'may', 'jun', 'jul', 'aug', 'sep', 'oct', 'nov', 'dec']\n",
        "##Complete - Zach\n",
        "import matplotlib.pyplot as plt\n",
        "plt.scatter(array[:,0], array[:,1], c = \"red\") #scatterplot of x and y coordinates\n",
        "plt.title(\"X and Y coordinates of fire ignition locations in Montesinho park\")\n",
        "plt.xlabel(\"X Coordinate\")\n",
        "plt.ylabel(\"Y Coordinate\")\n",
        "plt.show()"
      ],
      "metadata": {
        "id": "bZWn8Ay1p7by",
        "colab": {
          "base_uri": "https://localhost:8080/",
          "height": 295
        },
        "outputId": "246b825d-c16c-4d57-df8c-028ffb75946d"
      },
      "execution_count": null,
      "outputs": [
        {
          "output_type": "display_data",
          "data": {
            "image/png": "[encoded data removed]",
            "text/plain": [
              "<Figure size 432x288 with 1 Axes>"
            ]
          },
          "metadata": {
            "needs_background": "light"
          }
        }
      ]
    },
    {
      "cell_type": "markdown",
      "source": [
        "The above plot shows essentially and X Y coordinate graph of the different fire ignition locations in Montesinho park in northern Portugal. The two attributes are most likely related because they tell exactly where a fire started. Notably, we can see that fires rarely start above a Y coordiate of 6. This could potentially be becaue the northern region of the park has different, or alack thereof, vegitation that makes it more difficult for fires to start there. "
      ],
      "metadata": {
        "id": "6n6VCI_R97HA"
      }
    },
    {
      "cell_type": "markdown",
      "source": [
        "> Plot 2: Temperature vs. Relative Humidity"
      ],
      "metadata": {
        "id": "eOhuKWhhAc4v"
      }
    },
    {
      "cell_type": "code",
      "source": [
        "#Complete -Zach\n",
        "plt.scatter(array[:,8], array[:,9], c = \"lightblue\") #scatterplot of temperature and humidity\n",
        "plt.title(\"Temperature vs Relative Humidity\")\n",
        "plt.xlabel(\"Temperature (degrees Celsius)\")\n",
        "plt.ylabel(\"Relative Humidity (in %)\")\n",
        "plt.show()"
      ],
      "metadata": {
        "colab": {
          "base_uri": "https://localhost:8080/",
          "height": 295
        },
        "id": "B3ttUBbzAnGV",
        "outputId": "6ae16d09-6788-484a-93b0-cf3c47ea94a0"
      },
      "execution_count": null,
      "outputs": [
        {
          "output_type": "display_data",
          "data": {
            "image/png": "[encoded data removed]",
            "text/plain": [
              "<Figure size 432x288 with 1 Axes>"
            ]
          },
          "metadata": {
            "needs_background": "light"
          }
        }
      ]
    },
    {
      "cell_type": "markdown",
      "source": [
        "The above plot shows the temperature when compared to relative humidity in Montesinho park. We would expect these two atributes to be related because typically, when temperature increases, relative humidity often decreases. This scatter plot clearly supports that because there is a downward trend which shows relative humidity decreasing when the temperature increases."
      ],
      "metadata": {
        "id": "H860jKfYBXtR"
      }
    },
    {
      "cell_type": "markdown",
      "source": [
        "> Plot 3: Wind vs. Actual Area Burned"
      ],
      "metadata": {
        "id": "DaSAGwW9Ci0r"
      }
    },
    {
      "cell_type": "code",
      "source": [
        "#Complete -Zach\n",
        "plt.scatter(array[:,10], array[:,12], c = \"teal\") #scatterplot of wind speed and area burned\n",
        "plt.title(\"Wind speed vs. Actual Area Burned\")\n",
        "plt.xlabel(\"Wind speed (km/h)\")\n",
        "plt.ylabel(\"Actual Area Burned (in hectares)\")\n",
        "plt.show()"
      ],
      "metadata": {
        "colab": {
          "base_uri": "https://localhost:8080/",
          "height": 295
        },
        "id": "xn7BJykZCzrV",
        "outputId": "31df909e-6dc6-42a7-efcf-0ff6c68256d3"
      },
      "execution_count": null,
      "outputs": [
        {
          "output_type": "display_data",
          "data": {
            "image/png": "[encoded data removed]",
            "text/plain": [
              "<Figure size 432x288 with 1 Axes>"
            ]
          },
          "metadata": {
            "needs_background": "light"
          }
        }
      ]
    },
    {
      "cell_type": "markdown",
      "source": [
        "In plot 3, we compare the average wind speed during a fire to its total area burned in hectares. We would expect based on how wind and fire react for the area burned to increase as the wind speed increases. In this plot however, we do not see that. Excluding some outliers, the area burned stays relatively similar and even appears to slightly decrease as the wind speeds reach above 8 kilometers per hour. most likely, this is because we do not have any fire data that has wind speeds above 9.4 kilometers per hour. If the wind was significantly more, possibly in the 20-30 kilometer per hour range we might see an increase in the area burned by those fires."
      ],
      "metadata": {
        "id": "1kkSVc0kEdg1"
      }
    },
    {
      "cell_type": "markdown",
      "source": [
        ">Plot 4: Relative Humidity vs. Actual Area Burned"
      ],
      "metadata": {
        "id": "mZeMwk5UGXjK"
      }
    },
    {
      "cell_type": "code",
      "source": [
        "#Complete -Zach\n",
        "plt.scatter(array[:,9], array[:,12], c = \"orange\") #scatterplot of humidity and area burned\n",
        "plt.title(\"Relative Humidity vs. Actual Area Burned\")\n",
        "plt.xlabel(\"Relative humidity (in %)\")\n",
        "plt.ylabel(\"Actual Area Burned (in hectares)\")\n",
        "plt.show()"
      ],
      "metadata": {
        "colab": {
          "base_uri": "https://localhost:8080/",
          "height": 295
        },
        "id": "0q9BfyBrHIVs",
        "outputId": "9c06c328-18d3-426f-b6c9-2fb72f93f9bb"
      },
      "execution_count": null,
      "outputs": [
        {
          "output_type": "display_data",
          "data": {
            "image/png": "[encoded data removed]",
            "text/plain": [
              "<Figure size 432x288 with 1 Axes>"
            ]
          },
          "metadata": {
            "needs_background": "light"
          }
        }
      ]
    },
    {
      "cell_type": "markdown",
      "source": [
        "For plot 4, we compared the Relative Humidity during a fire to the actual area that fire burned. We would expect that a lower Relative Humidity would allot fires to more easily start and burn hotter and longer. The scatter plot shows that more fires start at a lower humidity because there is a higher concentration of fires at the lower end with some of them having burned a larger area than at the high humidity range. We also see an increase in burned area at lower humidity."
      ],
      "metadata": {
        "id": "r872R9n6OpgN"
      }
    },
    {
      "cell_type": "markdown",
      "source": [
        ">Plot 5: Drought Code vs Initial Spread Index\n"
      ],
      "metadata": {
        "id": "xDcATu35gj-u"
      }
    },
    {
      "cell_type": "code",
      "source": [
        "#Complete -Zach\n",
        "plt.scatter(array[:,6], array[:,7], c = \"turquoise\") #scatterplot of humidity and area burned\n",
        "plt.title(\"Drought Code vs Initial Spread Index\")\n",
        "plt.xlabel(\"Drought Code (DC)\")\n",
        "plt.ylabel(\"Initial Spread Index (ISI)\")\n",
        "plt.show()"
      ],
      "metadata": {
        "colab": {
          "base_uri": "https://localhost:8080/",
          "height": 295
        },
        "id": "o53vBC8ngmJs",
        "outputId": "16828467-55fb-4230-e920-065b1c159de3"
      },
      "execution_count": null,
      "outputs": [
        {
          "output_type": "display_data",
          "data": {
            "image/png": "[encoded data removed]",
            "text/plain": [
              "<Figure size 432x288 with 1 Axes>"
            ]
          },
          "metadata": {
            "needs_background": "light"
          }
        }
      ]
    },
    {
      "cell_type": "markdown",
      "source": [
        "For plot 5, we looked at two different metrics that are used to determine and predict the severity of a wildfire. The first of these is the Drought Code (DC)which is used to indicate how dry the surrounding landscape is. It has no units and has a maximum value of 1000 with values of 800 and above indicating severe drought. The second metric is the Initial Spread Index (ISI) which combines fuel dryness and windspeed to estimate the spread potential. It also has no units but is open ended. We would expect as the DC increased, the ISI would also increase. From this plot, we can see that there is a very slight increase in the average ISI when the DC increases but it isn't enough to conclude that for sure. "
      ],
      "metadata": {
        "id": "82oDAE7HivMG"
      }
    },
    {
      "cell_type": "markdown",
      "source": [
        "##Which range-normalized numerical attributes have the greatest estimated covariance? What is their estimated covariance? Create a scatter plot of these range-normalized attributes."
      ],
      "metadata": {
        "id": "7SpqGRQQlucw"
      }
    },
    {
      "cell_type": "markdown",
      "source": [
        "x have the greatest correlation. Their correlation is "
      ],
      "metadata": {
        "id": "fgJdCURGTD2y"
      }
    },
    {
      "cell_type": "code",
      "source": [
        "covariance(a,b)"
      ],
      "metadata": {
        "id": "S_yM_AQ_XP_8",
        "colab": {
          "base_uri": "https://localhost:8080/",
          "height": 168
        },
        "outputId": "9cf0efce-a26b-4279-dfb1-de7bb64e1c92"
      },
      "execution_count": null,
      "outputs": [
        {
          "output_type": "error",
          "ename": "NameError",
          "evalue": "ignored",
          "traceback": [
            "\u001b[0;31m---------------------------------------------------------------------------\u001b[0m",
            "\u001b[0;31mNameError\u001b[0m                                 Traceback (most recent call last)",
            "\u001b[0;32m<ipython-input-18-42c0c250839d>\u001b[0m in \u001b[0;36m<module>\u001b[0;34m()\u001b[0m\n\u001b[0;32m----> 1\u001b[0;31m \u001b[0mcovariance\u001b[0m\u001b[0;34m(\u001b[0m\u001b[0ma\u001b[0m\u001b[0;34m,\u001b[0m\u001b[0mb\u001b[0m\u001b[0;34m)\u001b[0m\u001b[0;34m\u001b[0m\u001b[0;34m\u001b[0m\u001b[0m\n\u001b[0m",
            "\u001b[0;31mNameError\u001b[0m: name 'a' is not defined"
          ]
        }
      ]
    },
    {
      "cell_type": "markdown",
      "source": [
        "##Which Z-score-normalized numerical attributes have the smallest correlation? What is their correlation? Create a scatter plot of these Z-score-normalized attributes."
      ],
      "metadata": {
        "id": "UcdgYkNxlurF"
      }
    },
    {
      "cell_type": "markdown",
      "source": [
        "x have the smallest correlation. Their correlation is "
      ],
      "metadata": {
        "id": "fmRvD_a4TLJm"
      }
    },
    {
      "cell_type": "code",
      "source": [
        "correlation(a,b)"
      ],
      "metadata": {
        "id": "tNYSHGh9UOso"
      },
      "execution_count": null,
      "outputs": []
    },
    {
      "cell_type": "markdown",
      "source": [
        "##How many pairs of features have correlation greater than or equal to 0.5?"
      ],
      "metadata": {
        "id": "QdBzG8mwluyW"
      }
    },
    {
      "cell_type": "markdown",
      "source": [
        "x pairs of features have correlation greater than or equal to 0.5."
      ],
      "metadata": {
        "id": "jsZNCMhOTNM1"
      }
    },
    {
      "cell_type": "code",
      "source": [
        "correlation(a,b)"
      ],
      "metadata": {
        "id": "Iss8l-cAYOiH"
      },
      "execution_count": null,
      "outputs": []
    },
    {
      "cell_type": "markdown",
      "source": [
        "##How many pairs of features have negative estimated covariance?\n",
        "\n",
        "\n"
      ],
      "metadata": {
        "id": "Hk3rQBx6lu4V"
      }
    },
    {
      "cell_type": "markdown",
      "source": [
        "x pairs of features have negative estimated covariance. "
      ],
      "metadata": {
        "id": "MMM_4ELiTO97"
      }
    },
    {
      "cell_type": "code",
      "source": [
        "correlation(a,b)"
      ],
      "metadata": {
        "id": "_QJJg3kjYcXG"
      },
      "execution_count": null,
      "outputs": []
    },
    {
      "cell_type": "markdown",
      "source": [
        "##What is the total variance of the data?"
      ],
      "metadata": {
        "id": "L_0bBpeglu-l"
      }
    },
    {
      "cell_type": "markdown",
      "source": [
        "The total variance of the data is"
      ],
      "metadata": {
        "id": "8cPpVKX9TQvt"
      }
    },
    {
      "cell_type": "code",
      "source": [
        "variance(fires)"
      ],
      "metadata": {
        "id": "CbAcTUSmYegw"
      },
      "execution_count": null,
      "outputs": []
    },
    {
      "cell_type": "markdown",
      "source": [
        "##What is the total variance of the data, restricted to the five features that have the greatest estimated variance?"
      ],
      "metadata": {
        "id": "kHatuikZlvF5"
      }
    },
    {
      "cell_type": "markdown",
      "source": [
        "The total variance of the data restricted to the five features that have the greatest estimated variance is"
      ],
      "metadata": {
        "id": "SuXXhgi1TTNu"
      }
    },
    {
      "cell_type": "code",
      "source": [
        "variance(fires)"
      ],
      "metadata": {
        "id": "TzW-PEerZo3m"
      },
      "execution_count": null,
      "outputs": []
    }
  ],
  "metadata": {
    "colab": {
      "collapsed_sections": [
        "ZFAF1Qx5hXQc",
        "NZzBp-VVhpXC",
        "ezsezV2-hyOL",
        "Uu9Bim_Vh8Ra",
        "sNfgSv45iL6c",
        "ggU7dc7iiPAY"
      ],
      "name": "Project1.ipynb",
      "provenance": [],
      "include_colab_link": true
    },
    "kernelspec": {
      "display_name": "Python 3",
      "name": "python3"
    },
    "language_info": {
      "name": "python"
    }
  },
  "nbformat": 4,
  "nbformat_minor": 0
}